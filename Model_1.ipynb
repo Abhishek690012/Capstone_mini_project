{
  "nbformat": 4,
  "nbformat_minor": 0,
  "metadata": {
    "colab": {
      "provenance": []
    },
    "kernelspec": {
      "name": "python3",
      "display_name": "Python 3"
    },
    "language_info": {
      "name": "python"
    }
  },
  "cells": [
    {
      "cell_type": "code",
      "execution_count": null,
      "metadata": {
        "id": "t6irtn7ghybD"
      },
      "outputs": [],
      "source": [
        "!pip install pathway --upgrade --quiet  # This cell may take a few seconds to execute."
      ]
    },
    {
      "cell_type": "code",
      "source": [
        "#importing the required libraries\n",
        "import numpy as np\n",
        "import pandas as pd\n",
        "import matplotlib.pyplot as plt\n",
        "import datetime\n",
        "import pathway as pw\n",
        "import bokeh.plotting\n",
        "import panel as pn\n",
        "import math\n"
      ],
      "metadata": {
        "id": "9jTqXtoLh5oJ"
      },
      "execution_count": null,
      "outputs": []
    },
    {
      "cell_type": "code",
      "source": [
        "!git clone https://github.com/Abhishek690012/Capstone_mini_project.git\n",
        "df = pd.read_csv(\"Capstone_mini_project/dataset.csv\")\n",
        "df.head()"
      ],
      "metadata": {
        "id": "L7YaGU17EbOl"
      },
      "execution_count": null,
      "outputs": []
    },
    {
      "cell_type": "code",
      "source": [
        "#converting the year from  two digit form to four digit form\n",
        "df['Year'] = df['LastUpdatedDate'].str[6:8]\n",
        "df['LastUpdatedDate'] = df['LastUpdatedDate'].str[:-2]\n",
        "df['Year'] = '20'+df['Year']\n",
        "df['LastUpdatedDate' ]= df['LastUpdatedDate']+df['Year']\n",
        "df['LastUpdatedTime'] = df['LastUpdatedTime'] + ':00'\n",
        "df.drop(columns = ['Year'],inplace = True)\n",
        "df.head()"
      ],
      "metadata": {
        "id": "NNxrFps4h_7l"
      },
      "execution_count": null,
      "outputs": []
    },
    {
      "cell_type": "code",
      "source": [
        "# Combine the 'LastUpdatedDate' and 'LastUpdatedTime' columns into a single datetime column\n",
        "df['Timestamp'] = pd.to_datetime(df['LastUpdatedDate'] + ' ' + df['LastUpdatedTime'],\n",
        "                                  format='%m-%d-%Y %H:%M:%S')\n",
        "\n",
        "# Sort the DataFrame by the new 'Timestamp' column and reset the index\n",
        "df = df.sort_values('Timestamp').reset_index(drop=True)"
      ],
      "metadata": {
        "id": "Se5bLs9MjyM-"
      },
      "execution_count": null,
      "outputs": []
    },
    {
      "cell_type": "markdown",
      "source": [
        "\n",
        "\n",
        "> Model 1....\n",
        "\n"
      ],
      "metadata": {
        "id": "g2X-R5Wilzt7"
      }
    },
    {
      "cell_type": "code",
      "source": [
        "# Savint the selected columns to a CSV file for streaming or downstream processing\n",
        "df['code'] = df['SystemCodeNumber']\n",
        "df[[\"Timestamp\", \"Occupancy\", \"Capacity\",\"SystemCodeNumber\",\"code\"]].to_csv(\"parking_stream.csv\", index=False)\n",
        "\n",
        "class ParkingSchema(pw.Schema):\n",
        "    Timestamp: str\n",
        "    Occupancy: int\n",
        "    Capacity: int\n",
        "    SystemCodeNumber : str\n",
        "    code : str\n",
        "\n",
        "data = pw.demo.replay_csv(\"parking_stream.csv\", schema=ParkingSchema, input_rate=1000)\n"
      ],
      "metadata": {
        "id": "ZnbLySYGi_k8"
      },
      "execution_count": null,
      "outputs": []
    },
    {
      "cell_type": "code",
      "source": [
        "# Define the datetime format to parse the 'Timestamp' column\n",
        "fmt = \"%Y-%m-%d %H:%M:%S\"\n",
        "\n",
        "#adding columns required to parse the input in a day wise manner\n",
        "data_with_time = data.with_columns(\n",
        "    t = data.Timestamp.dt.strptime(fmt),\n",
        "    day = data.Timestamp.dt.strptime(fmt).dt.strftime(\"%Y-%m-%dT00:00:00\")\n",
        ")"
      ],
      "metadata": {
        "id": "7cX3nlGlmOrI"
      },
      "execution_count": null,
      "outputs": []
    },
    {
      "cell_type": "code",
      "source": [
        "#Price function\n",
        "def logistic_price(occ_max, occ_min, cap, base=10, scale=3):\n",
        "    x = (occ_max - occ_min) / cap\n",
        "    # Logistic function centered at 0.5, steepness )\n",
        "    return base + scale / (1 + math.exp(-3 * (x - 0.5)))\n"
      ],
      "metadata": {
        "id": "tmctA03qz-z_"
      },
      "execution_count": null,
      "outputs": []
    },
    {
      "cell_type": "code",
      "source": [
        "delta_window = (\n",
        "    #the window creation based on the parking lot identity over one day\n",
        "    data_with_time.windowby(\n",
        "        pw.this.t,\n",
        "        instance = pw.this.SystemCodeNumber,\n",
        "        window=pw.temporal.tumbling(datetime.timedelta(days = 1)),\n",
        "        behavior=pw.temporal.exactly_once_behavior()\n",
        "    )\n",
        "    .reduce(\n",
        "        t=pw.this._pw_window_end,\n",
        "        occ_max=pw.reducers.max(pw.this.Occupancy), #Max Occupancy during the day\n",
        "        occ_min=pw.reducers.min(pw.this.Occupancy), #Min Occupancy during the day\n",
        "        cap=pw.reducers.max(pw.this.Capacity),  #Capacity\n",
        "        Code = pw.reducers.earliest(pw.this.SystemCodeNumber) #Adding the codes of parking lots to plow only one of them at a time\n",
        "    )\n",
        "    .with_columns(\n",
        "        SystemCodeNumber = pw.this.Code,\n",
        "        #applying the function to compute the price using the function defined above\n",
        "        price=pw.apply(\n",
        "        lambda occ_max, occ_min, cap: logistic_price(occ_max, occ_min, cap),\n",
        "        pw.this.occ_max,\n",
        "        pw.this.occ_min,\n",
        "        pw.this.cap\n",
        "      )\n",
        "  )\n",
        ")"
      ],
      "metadata": {
        "id": "NtO-qnDOmGVl"
      },
      "execution_count": null,
      "outputs": []
    },
    {
      "cell_type": "code",
      "source": [
        "#upper limit or the index for plotting is 13 i.e. you can plot for 14 different parking lots\n",
        "unique_codes = df['SystemCodeNumber'].unique()\n",
        "\n",
        "\n",
        "# Activate the Panel extension to enable interactive visualizations\n",
        "pn.extension()\n",
        "\n",
        "\n",
        "# Creating the window in which the plots will be stored.\n",
        "def price_plotter_Labeled(name):\n",
        "    def price_plotter(source):\n",
        "        from bokeh.plotting import figure\n",
        "        #fig = figure(title=f\"Price Plot for {name}\")\n",
        "        fig = bokeh.plotting.figure(\n",
        "          height=300,\n",
        "          width=600,\n",
        "          title=f\"Price Plot for {name}\",\n",
        "          x_axis_type=\"datetime\",  # Ensure time-based data is properly formatted on the x-axis\n",
        "        )\n",
        "\n",
        "        fig.line(\"t\", \"price\", source=source, line_width=2, color=\"navy\")\n",
        "        fig.scatter(x=\"t\", y=\"price\", source=source, size=6, color=\"red\", marker=\"circle\")\n",
        "        return fig\n",
        "    return price_plotter\n",
        "\n",
        "#upper limit or the index for plotting is 13 i.e. you can plot for 14 different parking lots\n",
        "unique_codes = df['SystemCodeNumber'].unique()\n",
        "\n",
        "plots = []#for storing the plots\n",
        "\n",
        "for i in range(unique_codes.size):\n",
        "  filtered = delta_window.filter(delta_window.SystemCodeNumber == unique_codes[i])\n",
        "  viz = filtered.plot(price_plotter_Labeled(unique_codes[i]), sorting_col=\"t\")\n",
        "  plots.append(viz)\n",
        "\n",
        "\n",
        "dashboard = pn.Column(*plots)\n",
        "dashboard.servable()"
      ],
      "metadata": {
        "id": "0jFbzUZ9mBsz"
      },
      "execution_count": null,
      "outputs": []
    },
    {
      "cell_type": "code",
      "source": [
        "%%capture --no-display\n",
        "pw.run()#Run this after creating the plots i.e. after doing run all run this code again\n"
      ],
      "metadata": {
        "id": "P2gFw-U0j_Rx"
      },
      "execution_count": null,
      "outputs": []
    },
    {
      "cell_type": "code",
      "source": [],
      "metadata": {
        "id": "8JXwT1WJkqjB"
      },
      "execution_count": null,
      "outputs": []
    }
  ]
}