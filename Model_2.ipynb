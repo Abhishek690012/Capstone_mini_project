{
  "nbformat": 4,
  "nbformat_minor": 0,
  "metadata": {
    "colab": {
      "provenance": []
    },
    "kernelspec": {
      "name": "python3",
      "display_name": "Python 3"
    },
    "language_info": {
      "name": "python"
    }
  },
  "cells": [
    {
      "cell_type": "code",
      "execution_count": null,
      "metadata": {
        "id": "lniugfmg7Vxc"
      },
      "outputs": [],
      "source": [
        "!pip install pathway --upgrade --quiet  # This cell may take a few seconds to execute."
      ]
    },
    {
      "cell_type": "code",
      "source": [
        "#importing important libraries\n",
        "import numpy as np\n",
        "import pandas as pd\n",
        "import matplotlib.pyplot as plt\n",
        "import datetime\n",
        "import pathway as pw\n",
        "import bokeh.plotting\n",
        "import panel as pn\n",
        "import math\n",
        "\n",
        "from google.colab import drive\n",
        "# drive.flush_and_unmount()\n",
        "drive.mount('/content/drive')\n",
        "\n",
        "\n"
      ],
      "metadata": {
        "id": "VzApWiZe7fdT"
      },
      "execution_count": null,
      "outputs": []
    },
    {
      "cell_type": "code",
      "source": [
        "!git clone https://github.com/Abhishek690012/Capstone_mini_project.git\n",
        "df = pd.read_csv(\"Capstone_mini_project/dataset.csv\")\n",
        "df.head()"
      ],
      "metadata": {
        "id": "cW7Tt9nLB2Zs"
      },
      "execution_count": null,
      "outputs": []
    },
    {
      "cell_type": "code",
      "source": [
        "#converting the year from  two digit form to four digit form\n",
        "df['Year'] = df['LastUpdatedDate'].str[6:8]\n",
        "df['LastUpdatedDate'] = df['LastUpdatedDate'].str[:-2]\n",
        "df['Year'] = '20'+df['Year']\n",
        "df['LastUpdatedDate' ]= df['LastUpdatedDate']+df['Year']\n",
        "df['LastUpdatedTime'] = df['LastUpdatedTime'] + ':00'\n",
        "df.drop(columns = ['Year'],inplace = True)\n",
        "df.head()"
      ],
      "metadata": {
        "id": "sQepdvsg7hWK"
      },
      "execution_count": null,
      "outputs": []
    },
    {
      "cell_type": "code",
      "source": [
        "#Encoding the nearby traffic condition column\n",
        "conditions = [\n",
        "    df['TrafficConditionNearby'] == 'low',\n",
        "    df['TrafficConditionNearby'] == 'average',\n",
        "    df['TrafficConditionNearby'] == 'high'\n",
        "]\n",
        "choices = [1, 2, 3]  # Assign any values you want for each category\n",
        "\n",
        "df['TrafficCondition'] = np.select(conditions, choices)\n",
        "df.head()"
      ],
      "metadata": {
        "id": "R9tOMjnF7jLe"
      },
      "execution_count": null,
      "outputs": []
    },
    {
      "cell_type": "code",
      "source": [
        "# Combine the 'LastUpdatedDate' and 'LastUpdatedTime' columns into a single datetime column\n",
        "df['Timestamp'] = pd.to_datetime(df['LastUpdatedDate'] + ' ' + df['LastUpdatedTime'],\n",
        "                                  format='%m-%d-%Y %H:%M:%S')\n",
        "\n",
        "# Sort the DataFrame by the new 'Timestamp' column and reset the index\n",
        "df = df.sort_values('Timestamp').reset_index(drop=True)\n",
        "df.drop(columns = ['Latitude','Longitude','VehicleType','TrafficConditionNearby','IsSpecialDay'],inplace = True)"
      ],
      "metadata": {
        "id": "TxPvyYpO7nPN"
      },
      "execution_count": null,
      "outputs": []
    },
    {
      "cell_type": "code",
      "source": [
        "def pseudo_price(cap,occ,traffic_cond,queue_len):\n",
        "  ini_coeff = [0.6,1.5,1.1,2.3,1]\n",
        "  demand = -cap*ini_coeff[0] + occ *ini_coeff[1] - traffic_cond*ini_coeff[2]+ queue_len*ini_coeff[3]\n",
        "  #sigmoid function for normalization\n",
        "  import math\n",
        "\n",
        "  x = 8\n",
        "  if demand > 0:\n",
        "      normalized_demand = 1.0/(1.0+math.exp(-demand))\n",
        "      price = 10.0 + x*normalized_demand\n",
        "      return price\n",
        "  else:\n",
        "      price = 10.0\n",
        "      return price"
      ],
      "metadata": {
        "id": "Mo4sLc-47ppS"
      },
      "execution_count": null,
      "outputs": []
    },
    {
      "cell_type": "code",
      "source": [
        "#Defining the schema for the pipeline\n",
        "class schema(pw.Schema):\n",
        "  Timestamp: str\n",
        "  Occupancy: int\n",
        "  Capacity: int\n",
        "  SystemCodeNumber : str\n",
        "  TrafficCondition : int\n",
        "  QueueLength:int\n",
        "  # IsSpecialDay : int\n",
        "\n",
        "df.to_csv(\"1.csv\", index=False)\n"
      ],
      "metadata": {
        "id": "urYa_6ND7qN8"
      },
      "execution_count": null,
      "outputs": []
    },
    {
      "cell_type": "code",
      "source": [
        "curr = pd.read_csv('/content/1.csv')\n",
        "complete_input = curr.copy()\n",
        "\n",
        "curr_in = pw.demo.replay_csv(\"/content/1.csv\", schema=schema, input_rate=1000)\n",
        "\n",
        "fmt = \"%Y-%m-%d %H:%M:%S\"\n",
        "\n",
        "curr_input = curr_in.with_columns(\n",
        "    LastUpdatedDate = curr_in.Timestamp.dt.strptime(fmt),\n",
        "    day = curr_in.Timestamp.dt.strptime(fmt).dt.strftime(\"%Y-%m-%dT00:00:00\")\n",
        ")\n",
        "\n",
        "#defining the window  behaviour\n",
        "window = (\n",
        "    curr_input.windowby(\n",
        "        pw.this.LastUpdatedDate,\n",
        "        window = pw.temporal.tumbling(datetime.timedelta(days = 1)),\n",
        "        instance = pw.this.SystemCodeNumber,\n",
        "        behavior = pw.temporal.exactly_once_behavior()\n",
        "    )\n",
        "    .reduce(\n",
        "        t=pw.this._pw_window_end,\n",
        "        occ=pw.reducers.avg(pw.this.Occupancy)/pw.reducers.max(pw.this.Occupancy), #Max Occupancy during the day\n",
        "        #occ_min=pw.reducers.min(pw.this.Occupancy), #Min Occupancy during the day\n",
        "        cap=pw.reducers.avg(pw.this.Capacity)/pw.reducers.max(pw.this.Capacity),  #Capacity\n",
        "        traffic_cond = pw.reducers.avg(pw.this.TrafficCondition)/pw.reducers.max(pw.this.TrafficCondition),\n",
        "        queue_len = pw.reducers.avg(pw.this.QueueLength)/pw.reducers.max(pw.this.QueueLength),\n",
        "        Code = pw.reducers.earliest(pw.this.SystemCodeNumber)\n",
        "    )\n",
        "    .with_columns(\n",
        "        SystemCodeNumber = pw.this.Code,\n",
        "        price = pw.apply(\n",
        "            pseudo_price,\n",
        "            pw.this.cap,\n",
        "            pw.this.occ,\n",
        "            pw.this.traffic_cond,\n",
        "            pw.this.queue_len,\n",
        "        )\n",
        "\n",
        "      )\n",
        ")"
      ],
      "metadata": {
        "id": "XuuZgQFQ7s8r"
      },
      "execution_count": null,
      "outputs": []
    },
    {
      "cell_type": "code",
      "source": [],
      "metadata": {
        "id": "XptnG67h5Rdu"
      },
      "execution_count": null,
      "outputs": []
    },
    {
      "cell_type": "code",
      "source": [
        "#upper limit or the index for plotting is 13 i.e. you can plot for 14 different parking lots\n",
        "unique_codes = df['SystemCodeNumber'].unique()\n",
        "\n",
        "\n",
        "# Activate the Panel extension to enable interactive visualizations\n",
        "pn.extension()\n",
        "\n",
        "\n",
        "# Creating the window in which the plots will be stored.\n",
        "def price_plotter_Labeled(name):\n",
        "    def price_plotter(source):\n",
        "        from bokeh.plotting import figure\n",
        "        #fig = figure(title=f\"Price Plot for {name}\")\n",
        "        fig = bokeh.plotting.figure(\n",
        "          height=300,\n",
        "          width=600,\n",
        "          title=f\"Price Plot for {name}\",\n",
        "          x_axis_type=\"datetime\",  # Ensure time-based data is properly formatted on the x-axis\n",
        "        )\n",
        "\n",
        "        fig.line(\"t\", \"price\", source=source, line_width=2, color=\"navy\")\n",
        "        fig.scatter(x=\"t\", y=\"price\", source=source, size=4, color=\"red\", marker=\"circle\")\n",
        "        return fig\n",
        "    return price_plotter\n",
        "\n",
        "#upper limit or the index for plotting is 13 i.e. you can plot for 14 different parking lots\n",
        "unique_codes = df['SystemCodeNumber'].unique()\n",
        "\n",
        "plots = []#for storing the plots\n",
        "\n",
        "for i in range(unique_codes.size):\n",
        "  filtered = window.filter(window.SystemCodeNumber == unique_codes[i])\n",
        "  viz = filtered.plot(price_plotter_Labeled(unique_codes[i]), sorting_col=\"t\")\n",
        "  plots.append(viz)\n",
        "\n",
        "\n",
        "dashboard = pn.Column(*plots)\n",
        "dashboard.servable()"
      ],
      "metadata": {
        "id": "J3AlQDyT8BiY"
      },
      "execution_count": null,
      "outputs": []
    },
    {
      "cell_type": "code",
      "source": [
        "pw.run() #Run this line after running the whole file with run all option."
      ],
      "metadata": {
        "id": "R87SNDBm8qcy"
      },
      "execution_count": null,
      "outputs": []
    },
    {
      "cell_type": "code",
      "source": [],
      "metadata": {
        "id": "tRlvyBN99sC6"
      },
      "execution_count": null,
      "outputs": []
    }
  ]
}